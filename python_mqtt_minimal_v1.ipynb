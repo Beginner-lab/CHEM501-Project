{
 "cells": [
  {
   "cell_type": "code",
   "execution_count": null,
   "metadata": {},
   "outputs": [
    {
     "name": "stdout",
     "output_type": "stream",
     "text": [
      "b'22.93'\n",
      "b'0.00'\n"
     ]
    },
    {
     "data": {
      "text/plain": [
       "[0.0]"
      ]
     },
     "execution_count": 6,
     "metadata": {},
     "output_type": "execute_result"
    }
   ],
   "source": [
    "# !pip install paho-mqtt isntalled dont need to do again\n",
    "# Based off this: https://github.com/eclipse/paho.mqtt.python/blob/master/examples/subscribe_simple.py\n",
    "import paho.mqtt.subscribe as subscribe\n",
    "\n",
    "topics = ['alextemp', 'alexhumidity']\n",
    "\n",
    "data = []\n",
    "m = subscribe.simple(topics, hostname=\"pf-eveoxy0ua6xhtbdyohag.cedalo.cloud\", retained=False, msg_count=len(topics))\n",
    "\n",
    "for a in m:\n",
    "        print(a.payload)\n",
    "        data.append(a.payload)\n",
    "\n",
    "temperature = []\n",
    "humidity = []\n",
    "\n",
    "temperature.append(float(data[0].decode('utf-8')))\n",
    "\n",
    "humidity.append(float(data[1].decode('utf-8')))\n",
    "humidity\n"
   ]
  },
  {
   "cell_type": "code",
   "execution_count": 16,
   "metadata": {},
   "outputs": [
    {
     "name": "stdout",
     "output_type": "stream",
     "text": [
      "[22.55, 22.57, 22.56, 22.56, 22.55]\n",
      "[0.0, 0.0, 0.0, 0.0, 0.0]\n",
      "   temperature  humidity\n",
      "0        22.55       0.0\n",
      "1        22.57       0.0\n",
      "2        22.56       0.0\n",
      "3        22.56       0.0\n",
      "4        22.55       0.0\n"
     ]
    }
   ],
   "source": [
    "import paho.mqtt.subscribe as subscribe\n",
    "import pandas as pd\n",
    "topics = ['alextemp', 'alexhumidity']\n",
    "\n",
    "temperature = []\n",
    "humidity = []\n",
    "\n",
    "n_prints = 5\n",
    "for n in range(0,n_prints):\n",
    "    data = []\n",
    "   \n",
    "    m = subscribe.simple(topics, hostname=\"pf-eveoxy0ua6xhtbdyohag.cedalo.cloud\", retained=False, msg_count=len(topics))\n",
    "    for a in m:\n",
    "        # print(a.payload)\n",
    "        data.append(a.payload)\n",
    "    temperature.append(float(data[0].decode('utf-8')))\n",
    "    humidity.append(float(data[1].decode('utf-8')))\n",
    "print(temperature)\n",
    "print(humidity)\n",
    "    \n",
    "df = pd.DataFrame({ \n",
    "    'temperature': temperature,\n",
    "    'humidity': humidity   \n",
    "})\n",
    "print(df)\n",
    "\n",
    "df.to_csv('output.csv', index=False)\n"
   ]
  },
  {
   "cell_type": "code",
   "execution_count": null,
   "metadata": {},
   "outputs": [
    {
     "name": "stdout",
     "output_type": "stream",
     "text": [
      "[24.93, 24.93, 24.92, 24.93, 24.93]\n",
      "[39.0, 39.0, 39.0, 39.0, 39.0]\n",
      "[31.0, 36.0, 41.0, 46.0, 51.0]\n",
      "   temperature  humidity  time\n",
      "0        24.93      39.0  31.0\n",
      "1        24.93      39.0  36.0\n",
      "2        24.92      39.0  41.0\n",
      "3        24.93      39.0  46.0\n",
      "4        24.93      39.0  51.0\n"
     ]
    }
   ],
   "source": [
    "import paho.mqtt.subscribe as subscribe\n",
    "import pandas as pd\n",
    "topics = ['alextemp', 'alexhumidity','alextime']\n",
    "\n",
    "temperature = []\n",
    "humidity = []\n",
    "time=[]\n",
    "\n",
    "n_prints = 5\n",
    "for n in range(0,n_prints):\n",
    "    data = []\n",
    "   \n",
    "    m = subscribe.simple(topics, hostname=\"pf-eveoxy0ua6xhtbdyohag.cedalo.cloud\", retained=False, msg_count=len(topics))\n",
    "    for a in m:\n",
    "        # print(a.payload)\n",
    "        data.append(a.payload)\n",
    "    temperature.append(float(data[0].decode('utf-8')))\n",
    "    humidity.append(float(data[1].decode('utf-8')))\n",
    "    time.append(float(data[2].decode('utf-8')))\n",
    "print(temperature)\n",
    "print(humidity)\n",
    "print(time)\n",
    "    \n",
    "df = pd.DataFrame({ \n",
    "    'temperature()': temperature,\n",
    "    'humidity': humidity, \n",
    "    'time(s)' : time  \n",
    "})\n",
    "print(df)\n",
    "\n",
    "df.to_csv('output.csv', index=False)\n"
   ]
  },
  {
   "cell_type": "code",
   "execution_count": null,
   "metadata": {},
   "outputs": [
    {
     "data": {
      "text/html": [
       "<div>\n",
       "<style scoped>\n",
       "    .dataframe tbody tr th:only-of-type {\n",
       "        vertical-align: middle;\n",
       "    }\n",
       "\n",
       "    .dataframe tbody tr th {\n",
       "        vertical-align: top;\n",
       "    }\n",
       "\n",
       "    .dataframe thead th {\n",
       "        text-align: right;\n",
       "    }\n",
       "</style>\n",
       "<table border=\"1\" class=\"dataframe\">\n",
       "  <thead>\n",
       "    <tr style=\"text-align: right;\">\n",
       "      <th></th>\n",
       "      <th>temperature</th>\n",
       "      <th>humidity</th>\n",
       "      <th>time</th>\n",
       "    </tr>\n",
       "  </thead>\n",
       "  <tbody>\n",
       "    <tr>\n",
       "      <th>0</th>\n",
       "      <td>24.93</td>\n",
       "      <td>39.0</td>\n",
       "      <td>31.0</td>\n",
       "    </tr>\n",
       "    <tr>\n",
       "      <th>1</th>\n",
       "      <td>24.93</td>\n",
       "      <td>39.0</td>\n",
       "      <td>36.0</td>\n",
       "    </tr>\n",
       "    <tr>\n",
       "      <th>2</th>\n",
       "      <td>24.92</td>\n",
       "      <td>39.0</td>\n",
       "      <td>41.0</td>\n",
       "    </tr>\n",
       "    <tr>\n",
       "      <th>3</th>\n",
       "      <td>24.93</td>\n",
       "      <td>39.0</td>\n",
       "      <td>46.0</td>\n",
       "    </tr>\n",
       "    <tr>\n",
       "      <th>4</th>\n",
       "      <td>24.93</td>\n",
       "      <td>39.0</td>\n",
       "      <td>51.0</td>\n",
       "    </tr>\n",
       "  </tbody>\n",
       "</table>\n",
       "</div>"
      ],
      "text/plain": [
       "   temperature  humidity  time\n",
       "0        24.93      39.0  31.0\n",
       "1        24.93      39.0  36.0\n",
       "2        24.92      39.0  41.0\n",
       "3        24.93      39.0  46.0\n",
       "4        24.93      39.0  51.0"
      ]
     },
     "execution_count": 3,
     "metadata": {},
     "output_type": "execute_result"
    }
   ],
   "source": [
    "import sqlite3\n",
    "import pandas as pd\n",
    "file_path = 'output.csv'\n",
    "df = pd.read_csv(file_path) # remember read csv not read excel\n",
    "\n",
    "df.head()"
   ]
  },
  {
   "cell_type": "code",
   "execution_count": 5,
   "metadata": {},
   "outputs": [
    {
     "name": "stdout",
     "output_type": "stream",
     "text": [
      "CREATE TABLE IF NOT EXISTS cpd_data (compound_name TEXT, reason TEXT, parent_name TEXT);\n"
     ]
    }
   ],
   "source": [
    "\n",
    "conn = sqlite3.connect('output.db')\n",
    "\n",
    "cursor = conn.cursor()\n",
    "\n",
    "create_table_sql = 'CREATE TABLE IF NOT EXISTS cpd_data (compound_name TEXT, reason TEXT, parent_name TEXT);'\n",
    "\n",
    "cursor.execute(create_table_sql)\n",
    "conn.commit()\n",
    "\n",
    "print(create_table_sql)"
   ]
  },
  {
   "cell_type": "code",
   "execution_count": null,
   "metadata": {},
   "outputs": [],
   "source": []
  }
 ],
 "metadata": {
  "kernelspec": {
   "display_name": "base",
   "language": "python",
   "name": "python3"
  },
  "language_info": {
   "codemirror_mode": {
    "name": "ipython",
    "version": 3
   },
   "file_extension": ".py",
   "mimetype": "text/x-python",
   "name": "python",
   "nbconvert_exporter": "python",
   "pygments_lexer": "ipython3",
   "version": "3.12.4"
  },
  "orig_nbformat": 4
 },
 "nbformat": 4,
 "nbformat_minor": 2
}
